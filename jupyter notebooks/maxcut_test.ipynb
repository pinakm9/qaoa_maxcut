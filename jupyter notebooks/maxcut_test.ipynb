{
 "cells": [
  {
   "cell_type": "code",
   "execution_count": 1,
   "id": "tracked-sigma",
   "metadata": {},
   "outputs": [],
   "source": [
    "# add modules to Python's search path\n",
    "import os\n",
    "import sys\n",
    "module_path = os.path.abspath(os.path.join('..'))\n",
    "if module_path not in sys.path:\n",
    "    sys.path.append(module_path)"
   ]
  },
  {
   "cell_type": "code",
   "execution_count": 3,
   "id": "whole-religion",
   "metadata": {},
   "outputs": [],
   "source": [
    "from modules import wgraph as gr\n",
    "from modules import maxcut as mc"
   ]
  },
  {
   "cell_type": "code",
   "execution_count": 8,
   "id": "straight-species",
   "metadata": {},
   "outputs": [],
   "source": [
    "g = gr.gen_random_wgraph(num_nodes=2, edge_creation_prob=0.9)"
   ]
  },
  {
   "cell_type": "code",
   "execution_count": 10,
   "id": "veterinary-slovakia",
   "metadata": {},
   "outputs": [
    {
     "data": {
      "image/png": "[encoded data removed]",
      "text/plain": [
       "<Figure size 432x288 with 1 Axes>"
      ]
     },
     "metadata": {},
     "output_type": "display_data"
    }
   ],
   "source": [
    "mxc = mc.MaxCut(g)\n",
    "gr.plot_wgraph(g)"
   ]
  },
  {
   "cell_type": "code",
   "execution_count": 11,
   "id": "hourly-internship",
   "metadata": {},
   "outputs": [],
   "source": [
    "cou = mxc.cost_operator_unit(0.7)"
   ]
  },
  {
   "cell_type": "code",
   "execution_count": 12,
   "id": "upset-highlight",
   "metadata": {},
   "outputs": [
    {
     "data": {
      "text/html": [
       "<pre style=\"word-wrap: normal;white-space: pre;background: #fff0;line-height: 1.1;font-family: &quot;Courier New&quot;,Courier,monospace\">                          \n",
       "q_0: ──■───────────────■──\n",
       "     ┌─┴─┐┌─────────┐┌─┴─┐\n",
       "q_1: ┤ X ├┤ RX(1.4) ├┤ X ├\n",
       "     └───┘└─────────┘└───┘\n",
       "c: 2/═════════════════════\n",
       "                          </pre>"
      ],
      "text/plain": [
       "                          \n",
       "q_0: ──■───────────────■──\n",
       "     ┌─┴─┐┌─────────┐┌─┴─┐\n",
       "q_1: ┤ X ├┤ RX(1.4) ├┤ X ├\n",
       "     └───┘└─────────┘└───┘\n",
       "c: 2/═════════════════════\n",
       "                          "
      ]
     },
     "execution_count": 12,
     "metadata": {},
     "output_type": "execute_result"
    }
   ],
   "source": [
    "cou.draw()"
   ]
  },
  {
   "cell_type": "code",
   "execution_count": 13,
   "id": "basic-kelly",
   "metadata": {},
   "outputs": [
    {
     "name": "stdout",
     "output_type": "stream",
     "text": [
      "0\n",
      "1\n"
     ]
    }
   ],
   "source": [
    "for n in g.nodes():\n",
    "    print(n)"
   ]
  },
  {
   "cell_type": "code",
   "execution_count": null,
   "id": "extensive-verse",
   "metadata": {},
   "outputs": [],
   "source": []
  }
 ],
 "metadata": {
  "kernelspec": {
   "display_name": "Python 3",
   "language": "python",
   "name": "python3"
  },
  "language_info": {
   "codemirror_mode": {
    "name": "ipython",
    "version": 3
   },
   "file_extension": ".py",
   "mimetype": "text/x-python",
   "name": "python",
   "nbconvert_exporter": "python",
   "pygments_lexer": "ipython3",
   "version": "3.8.3"
  }
 },
 "nbformat": 4,
 "nbformat_minor": 5
}
